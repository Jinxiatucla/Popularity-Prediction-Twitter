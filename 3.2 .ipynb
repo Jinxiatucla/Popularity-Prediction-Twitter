{
 "cells": [
  {
   "cell_type": "code",
   "execution_count": 40,
   "metadata": {},
   "outputs": [],
   "source": [
    "import json\n",
    "import matplotlib.pyplot as plt\n",
    "import datetime, time\n",
    "import pytz\n",
    "import pandas as pd"
   ]
  },
  {
   "cell_type": "code",
   "execution_count": 41,
   "metadata": {},
   "outputs": [],
   "source": [
    "hashtag = '#SuperBowl'\n",
    "hashtag_dict = {'#GoHawks' : 'tweets_#gohawks.txt',\n",
    "                '#GoPatriots' : 'tweets_#gopatriots.txt',\n",
    "                '#NFL' : 'tweets_#nfl.txt',\n",
    "                '#Patriots' : 'tweets_#patriots.txt',\n",
    "                '#SB49' : 'tweets_#sb49.txt',\n",
    "                '#SuperBowl' : 'tweets_#superbowl.txt'}\n",
    "\n",
    "input_file = open('./tweet_data/' + hashtag_dict[hashtag])\n",
    "pst_tz = pytz.timezone('US/Pacific')\n",
    "start_time = time.mktime(time.strptime(\"2015-02-01 08:00:00\",'%Y-%m-%d %H:%M:%S'))\n",
    "end_time = time.mktime(time.strptime(\"2015-02-01 20:00:00\",'%Y-%m-%d %H:%M:%S'))\n",
    "total_list = []\n",
    "i = 0\n",
    "for line in input_file:\n",
    "    curr_list = []\n",
    "    curr_data = json.loads(line)\n",
    "    citation_date = curr_data['citation_date']\n",
    "    \n",
    "    location = curr_data['tweet']['user']['location']\n",
    "    text = curr_data['highlight']\n",
    "    curr_list.append(text)\n",
    "    curr_list.append(location)\n",
    "    if citation_date > end_time:\n",
    "        total_list.append(curr_list)\n",
    "        i += 1"
   ]
  },
  {
   "cell_type": "code",
   "execution_count": 42,
   "metadata": {},
   "outputs": [
    {
     "name": "stdout",
     "output_type": "stream",
     "text": [
      "0                               MALAYSIA\n",
      "1                                   Ohio\n",
      "2                                       \n",
      "3            #NinerEmpire  #GoLobos  #23\n",
      "4                             Dallas, TX\n",
      "5                                       \n",
      "6                LA ~ Chicago ~ NYC ~ FL\n",
      "7                                       \n",
      "8                             Boston, MA\n",
      "9                                       \n",
      "10        Total Divas on E! & RAW on USA\n",
      "11                                      \n",
      "12                               Arizona\n",
      "13                    Dare you to watch \n",
      "14                                      \n",
      "15                                      \n",
      "16                   Piro, Osa Peninsula\n",
      "17                 Copenhagen & New York\n",
      "18                                Boston\n",
      "19                                      \n",
      "20                             Vancouver\n",
      "21                            Malibu, CA\n",
      "22              United States of America\n",
      "23                     Herndon, Virginia\n",
      "24                     Herndon, Virginia\n",
      "25                         Rochester, NY\n",
      "26              Virginia Beach, VA 23464\n",
      "27                           Houston, TX\n",
      "28              Location: On your wrist \n",
      "29                       Los Angeles, CA\n",
      "                       ...              \n",
      "107257                            LA/NYC\n",
      "107258                      Philadelphia\n",
      "107259                                  \n",
      "107260                            Berlin\n",
      "107261                                  \n",
      "107262                             Tampa\n",
      "107263                                  \n",
      "107264                       /dev/random\n",
      "107265                                  \n",
      "107266                                  \n",
      "107267                                  \n",
      "107268                                  \n",
      "107269                            Online\n",
      "107270                                  \n",
      "107271                                  \n",
      "107272                                  \n",
      "107273                      Chicopee, MA\n",
      "107274                       Acworth, GA\n",
      "107275                        California\n",
      "107276                     Pensacola, FL\n",
      "107277                        New Jersey\n",
      "107278                                  \n",
      "107279                    Somerville, MA\n",
      "107280                      New York, NY\n",
      "107281                       boston XLIX\n",
      "107282                                  \n",
      "107283                                  \n",
      "107284                           Arizona\n",
      "107285                   Phoenix Arizona\n",
      "107286                                  \n",
      "Name: location, Length: 107287, dtype: object\n"
     ]
    }
   ],
   "source": [
    "Data = pd.DataFrame(total_list,columns=['text','location'])\n",
    "Data = Data.reset_index(drop=True)\n",
    "print(Data[:]['location'])"
   ]
  },
  {
   "cell_type": "code",
   "execution_count": 43,
   "metadata": {},
   "outputs": [
    {
     "name": "stdout",
     "output_type": "stream",
     "text": [
      "661\n",
      "1228\n"
     ]
    }
   ],
   "source": [
    "import re\n",
    "from textblob import TextBlob\n",
    "text_w = []\n",
    "location_w = []\n",
    "text_m = []\n",
    "location_m = []\n",
    "\n",
    "list_w = ['Washington', 'WA', 'washington', 'WASHINGTON']\n",
    "list_m = ['Massachusetts', 'massachusetts', 'MA', 'MASSACHUSETTS' ]\n",
    "list_dc = ['DC', 'D.C.', 'dc', 'd.c.']\n",
    "\n",
    "i = 0\n",
    "j = 0\n",
    "for index, row in Data.iterrows():\n",
    "    list_row1 = re.split('; |, ',row[1])\n",
    "    if any(x in list_row1 for x in list_w) and not any(y in list_row1 for y in list_dc):\n",
    "        text = row[0].split('http')\n",
    "        temp = re.sub('\\s#', ' ', text[0], flags=re.IGNORECASE)\n",
    "        testimonial = TextBlob(temp)\n",
    "        text_w.append(testimonial.sentiment.polarity)\n",
    "        location_w.append(0)\n",
    "        i += 1\n",
    "    elif any(x in list_row1 for x in list_m):\n",
    "        text = row[0].split('http')\n",
    "        temp = re.sub('\\s#', ' ', text[0], flags=re.IGNORECASE)\n",
    "        testimonial = TextBlob(temp)\n",
    "        if testimonial.sentiment.polarity < 0.5:\n",
    "            text_m.append(testimonial.sentiment.polarity)\n",
    "            location_m.append(1)\n",
    "            j += 1\n",
    "        \n",
    "\n",
    "print(i)\n",
    "print(j)"
   ]
  },
  {
   "cell_type": "code",
   "execution_count": 45,
   "metadata": {},
   "outputs": [
    {
     "name": "stdout",
     "output_type": "stream",
     "text": [
      "557\n",
      "254\n"
     ]
    }
   ],
   "source": [
    "a = 0\n",
    "b = 0\n",
    "for i in range (0, 661):\n",
    "    if text_w[i] >= 0: \n",
    "        a += 1\n",
    "for j in range (0, 1228):\n",
    "    if text_m[j] > 0.2:\n",
    "        b += 1\n",
    "print(a)\n",
    "print(b)"
   ]
  },
  {
   "cell_type": "code",
   "execution_count": 46,
   "metadata": {},
   "outputs": [
    {
     "name": "stdout",
     "output_type": "stream",
     "text": [
      "ratio_w_postive:0.843939393939\n"
     ]
    }
   ],
   "source": [
    "ratio_w = float(a) / float(i)\n",
    "print('ratio_w_postive:%s'%ratio_w)\n"
   ]
  },
  {
   "cell_type": "code",
   "execution_count": 47,
   "metadata": {},
   "outputs": [
    {
     "name": "stdout",
     "output_type": "stream",
     "text": [
      "ratio_m_postive:0.207008964955\n"
     ]
    }
   ],
   "source": [
    "ratio_m = float(b) / float(j)\n",
    "print('ratio_m_postive:%s'%ratio_m)"
   ]
  },
  {
   "cell_type": "code",
   "execution_count": null,
   "metadata": {},
   "outputs": [],
   "source": []
  }
 ],
 "metadata": {
  "kernelspec": {
   "display_name": "Python 2",
   "language": "python",
   "name": "python2"
  },
  "language_info": {
   "codemirror_mode": {
    "name": "ipython",
    "version": 2
   },
   "file_extension": ".py",
   "mimetype": "text/x-python",
   "name": "python",
   "nbconvert_exporter": "python",
   "pygments_lexer": "ipython2",
   "version": "2.7.14"
  }
 },
 "nbformat": 4,
 "nbformat_minor": 2
}
