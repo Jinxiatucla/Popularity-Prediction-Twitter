{
 "cells": [
  {
   "cell_type": "markdown",
   "metadata": {},
   "source": [
    "Problem 1.1\n",
    "---"
   ]
  },
  {
   "cell_type": "code",
   "execution_count": 1,
   "metadata": {},
   "outputs": [
    {
     "name": "stdout",
     "output_type": "stream",
     "text": [
      "files[0] => tweets_#gohawks.txt\n",
      "files[1] => tweets_#gopatriots.txt\n",
      "files[2] => tweets_#nfl.txt\n",
      "files[3] => tweets_#patriots.txt\n",
      "files[4] => tweets_#sb49.txt\n",
      "files[5] => tweets_#superbowl.txt\n"
     ]
    }
   ],
   "source": [
    "import json\n",
    "\n",
    "path = \"../tweet_data/\"\n",
    "\n",
    "files = [\"tweets_#gohawks.txt\", \"tweets_#gopatriots.txt\", \\\n",
    "        \"tweets_#nfl.txt\", \"tweets_#patriots.txt\", \\\n",
    "        \"tweets_#sb49.txt\", \"tweets_#superbowl.txt\"]\n",
    "\n",
    "for i, fl in enumerate(files):\n",
    "    print \"files[\" + str(i) + \"] => \" + fl"
   ]
  },
  {
   "cell_type": "code",
   "execution_count": 2,
   "metadata": {},
   "outputs": [],
   "source": [
    "def load_file(file):\n",
    "    '''\n",
    "    load the time, follows, and retweets\n",
    "    '''\n",
    "    result = []\n",
    "    for line in open(path + file, 'r') :\n",
    "        a = json.loads(line)\n",
    "        cita = a['citation_date']\n",
    "        foll = a['author']['followers']\n",
    "        retweet = a['tweet']['retweet_count']\n",
    "        result.append({'citation_data': cita, 'followers': foll, 'retweet_count': retweet})\n",
    "    return result"
   ]
  },
  {
   "cell_type": "code",
   "execution_count": 3,
   "metadata": {},
   "outputs": [],
   "source": [
    "def floor_time(t):\n",
    "    '''\n",
    "    used to get the floor of the timestamp to the nearest hour\n",
    "    '''\n",
    "    return int((float(t) // 3600) * 3600)\n",
    "\n",
    "def get_time_list(dataset):\n",
    "    # return [floor_time(i['citation_date']) for i in dataset]\n",
    "    a = []\n",
    "    for i, v in enumerate(dateset):\n",
    "        a.append(floor_time(v['citation_date']))"
   ]
  },
  {
   "cell_type": "code",
   "execution_count": 4,
   "metadata": {},
   "outputs": [],
   "source": [
    "def get_statistic(data_list):\n",
    "    '''\n",
    "    count the number of tweets, the number of followers and the number of retweets\n",
    "    '''\n",
    "    retweet = 0\n",
    "    followers = 0\n",
    "    tweets = 0\n",
    "    for p in data_list:\n",
    "        tweets += 1\n",
    "        retweet += int(p['retweet_count'])\n",
    "        followers += int(p['followers'])\n",
    "    return [tweets, float(followers) / tweets , float(retweet) / tweets]"
   ]
  },
  {
   "cell_type": "code",
   "execution_count": 16,
   "metadata": {},
   "outputs": [],
   "source": [
    "def print_statistic(p, title = \"\"):\n",
    "    print title + \": the number of tweets per hour is \" + str(p[0])\n",
    "    print title + \": the average number of followers is \" + str(p[1])\n",
    "    print title + \": the average number of retweets is \" + str(p[2])\n",
    "    print \"\""
   ]
  },
  {
   "cell_type": "code",
   "execution_count": 6,
   "metadata": {},
   "outputs": [],
   "source": [
    "def get_the_time(data_list):\n",
    "    return [floor_time(i['citation_data']) for i in data_list]"
   ]
  },
  {
   "cell_type": "code",
   "execution_count": 7,
   "metadata": {},
   "outputs": [],
   "source": [
    "%matplotlib inline\n",
    "\n",
    "import numpy as np\n",
    "import matplotlib.pyplot as plt\n",
    "import matplotlib as mpl\n",
    "\n",
    "def plot_hist(time_list, title = \"\"):\n",
    "    n, bins, patches = plt.hist(time_list, 50, normed=1, facecolor='green', alpha=0.75)\n",
    "    plt.hist(time_list, bins, alpha=0.5)\n",
    "    plt.title(title)\n",
    "    plt.show()"
   ]
  },
  {
   "cell_type": "code",
   "execution_count": 8,
   "metadata": {},
   "outputs": [],
   "source": [
    "superbowl = load_file(files[5])"
   ]
  },
  {
   "cell_type": "code",
   "execution_count": 11,
   "metadata": {},
   "outputs": [
    {
     "name": "stdout",
     "output_type": "stream",
     "text": [
      "the number of tweets per hour is 2301.65017065\n",
      "the average number of followers is 8858.97466278\n",
      "the average number of retweets is 0.136685580237\n"
     ]
    },
    {
     "data": {
      "image/png": "[encoded data removed]",
      "text/plain": [
       "<matplotlib.figure.Figure at 0x12b071a90>"
      ]
     },
     "metadata": {},
     "output_type": "display_data"
    }
   ],
   "source": [
    "time_list = get_the_time(superbowl)\n",
    "superbowl_st = get_statistic(superbowl)\n",
    "superbowl_st[0] = superbowl_st[0] / ((max(time_list) - min(time_list)) / 3600.0)\n",
    "print_statistic(superbowl_st, \"superbowl\")\n",
    "plot_hist(time_list, \"superbowl\")"
   ]
  },
  {
   "cell_type": "code",
   "execution_count": 12,
   "metadata": {},
   "outputs": [],
   "source": [
    "nfl = load_file(files[2])"
   ]
  },
  {
   "cell_type": "code",
   "execution_count": 13,
   "metadata": {},
   "outputs": [
    {
     "name": "stdout",
     "output_type": "stream",
     "text": [
      "the number of tweets per hour is 442.020477816\n",
      "the average number of followers is 4653.2522855\n",
      "the average number of retweets is 0.0509373648774\n"
     ]
    },
    {
     "data": {
      "image/png": "[encoded data removed]",
      "text/plain": [
       "<matplotlib.figure.Figure at 0x12b071790>"
      ]
     },
     "metadata": {},
     "output_type": "display_data"
    }
   ],
   "source": [
    "time_list = get_the_time(nfl)\n",
    "nfl_st = get_statistic(nfl)\n",
    "nfl_st[0] = nfl_st[0] / ((max(time_list) - min(time_list)) / 3600.0)\n",
    "print_statistic(nfl_st, \"nfl\")\n",
    "plot_hist(time_list, \"nfl\")"
   ]
  },
  {
   "cell_type": "code",
   "execution_count": 14,
   "metadata": {},
   "outputs": [
    {
     "name": "stdout",
     "output_type": "stream",
     "text": [
      "the number of tweets per hour is 442.020477816\n",
      "the average number of followers is 4653.2522855\n",
      "the average number of retweets is 0.0509373648774\n"
     ]
    }
   ],
   "source": [
    "nfl = load_file(files[2])\n",
    "nfl_st = get_statistic(nfl)\n",
    "nfl_st[0] = nfl_st[0] / ((max(time_list) - min(time_list)) / 3600.0)\n",
    "print_statistic(nfl_st, \"nfl\")"
   ]
  },
  {
   "cell_type": "code",
   "execution_count": 17,
   "metadata": {},
   "outputs": [
    {
     "name": "stdout",
     "output_type": "stream",
     "text": [
      "tweets_#gohawks.txt: the number of tweets per hour is 325.494809689\n",
      "tweets_#gohawks.txt: the average number of followers is 2203.93176744\n",
      "tweets_#gohawks.txt: the average number of retweets is 0.20916252073\n",
      "\n",
      "tweets_#gopatriots.txt: the number of tweets per hour is 45.7003484321\n",
      "tweets_#gopatriots.txt: the average number of followers is 1401.8955093\n",
      "tweets_#gopatriots.txt: the average number of retweets is 0.0268374504422\n",
      "\n",
      "tweets_#patriots.txt: the number of tweets per hour is 835.687713311\n",
      "tweets_#patriots.txt: the average number of followers is 3309.97882842\n",
      "tweets_#patriots.txt: the average number of retweets is 0.0914617337093\n",
      "\n",
      "tweets_#sb49.txt: the number of tweets per hour is 1420.87800687\n",
      "tweets_#sb49.txt: the average number of followers is 10267.3168495\n",
      "tweets_#sb49.txt: the average number of retweets is 0.178012965702\n",
      "\n"
     ]
    }
   ],
   "source": [
    "# print the statistics of the other tags\n",
    "for i in [0, 1, 3, 4]:\n",
    "    f = load_file(files[i])\n",
    "    time_list = get_the_time(f)\n",
    "    st = get_statistic(f)\n",
    "    st[0] = st[0] / ((max(time_list) - min(time_list)) / 3600.0)\n",
    "    print_statistic(st, files[i])"
   ]
  },
  {
   "cell_type": "code",
   "execution_count": null,
   "metadata": {},
   "outputs": [],
   "source": []
  }
 ],
 "metadata": {
  "kernelspec": {
   "display_name": "Python 2",
   "language": "python",
   "name": "python2"
  },
  "language_info": {
   "codemirror_mode": {
    "name": "ipython",
    "version": 2
   },
   "file_extension": ".py",
   "mimetype": "text/x-python",
   "name": "python",
   "nbconvert_exporter": "python",
   "pygments_lexer": "ipython2",
   "version": "2.7.10"
  }
 },
 "nbformat": 4,
 "nbformat_minor": 2
}
