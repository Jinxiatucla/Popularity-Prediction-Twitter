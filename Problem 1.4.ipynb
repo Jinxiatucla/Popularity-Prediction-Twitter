{
 "cells": [
  {
   "cell_type": "code",
   "execution_count": 1,
   "metadata": {},
   "outputs": [
    {
     "name": "stdout",
     "output_type": "stream",
     "text": [
      "files[0] => tweets_#gohawks.txt\n",
      "files[1] => tweets_#gopatriots.txt\n",
      "files[2] => tweets_#nfl.txt\n",
      "files[3] => tweets_#patriots.txt\n",
      "files[4] => tweets_#sb49.txt\n",
      "files[5] => tweets_#superbowl.txt\n"
     ]
    }
   ],
   "source": [
    "import json\n",
    "import numpy as np\n",
    "\n",
    "path = \"../tweet_data/\"\n",
    "\n",
    "files = [\"tweets_#gohawks.txt\", \"tweets_#gopatriots.txt\", \\\n",
    "        \"tweets_#nfl.txt\", \"tweets_#patriots.txt\", \\\n",
    "        \"tweets_#sb49.txt\", \"tweets_#superbowl.txt\"]\n",
    "\n",
    "for i, fl in enumerate(files):\n",
    "    print \"files[\" + str(i) + \"] => \" + fl"
   ]
  },
  {
   "cell_type": "code",
   "execution_count": 2,
   "metadata": {},
   "outputs": [],
   "source": [
    "# transform the 2015 Feb. 1, 8:00 am and 8:00 pm into timestamp form\n",
    "import datetime, time\n",
    "import pytz\n",
    "\n",
    "start_time = time.mktime(time.strptime(\"2015-02-01 08:00:00\",'%Y-%m-%d %H:%M:%S'))\n",
    "end_time = time.mktime(time.strptime(\"2015-02-01 20:00:00\",'%Y-%m-%d %H:%M:%S'))\n",
    "# used as the zero point of the time\n",
    "base_time = time.mktime(time.strptime(\"2015-01-01 00:00:00\",'%Y-%m-%d %H:%M:%S'))"
   ]
  },
  {
   "cell_type": "code",
   "execution_count": 3,
   "metadata": {},
   "outputs": [],
   "source": [
    "def floor_date(date):\n",
    "    return date // 3600"
   ]
  },
  {
   "cell_type": "code",
   "execution_count": 4,
   "metadata": {},
   "outputs": [],
   "source": [
    "# the extracted data contains\n",
    "# 0. the citation date 1. the favourite_count 2. the followers number\n",
    "# 3. the length of the title 4. the number of the twitters\n",
    "def load_file(file):\n",
    "    '''\n",
    "    load the time, follows, and retweets\n",
    "    '''\n",
    "    # 0. before Feb. 1, 8:00 a.m. 1. between 2. after 8:00 p.m.\n",
    "    result = [[], [], []]\n",
    "    for line in open(path + file, 'r') :\n",
    "        tmp = []\n",
    "        a = json.loads(line)\n",
    "        citation_date = a['citation_date']\n",
    "        tmp.append(int((citation_date - base_time) // 3600))\n",
    "        tmp.append(a['author']['followers'])\n",
    "        tmp.append(a['tweet']['user']['favourites_count'])\n",
    "        tmp.append(len(a['title']))\n",
    "        tmp.append(1)\n",
    "        if citation_date < start_time:\n",
    "            result[0].append(tmp)\n",
    "        elif citation_date < end_time:\n",
    "            result[1].append(tmp)\n",
    "        else:\n",
    "            result[2].append(tmp)\n",
    "    return result"
   ]
  },
  {
   "cell_type": "code",
   "execution_count": 5,
   "metadata": {},
   "outputs": [],
   "source": [
    "def group_data(dataset):\n",
    "    '''\n",
    "    parameter dataset is one of the three time slot defined above, namely, data[0], data[1], data[2]\n",
    "    count all the features in 1-hour slot\n",
    "    \n",
    "    return the train feature (train_set[0:4]) and the result (train_set[5])\n",
    "    '''\n",
    "    # get the maximum and minimum time\n",
    "    max_time = dataset[0][0]\n",
    "    min_time = dataset[0][0]\n",
    "    for p in dataset:\n",
    "        time = p[0]\n",
    "        if max_time < time:\n",
    "            max_time = time\n",
    "        if min_time > time:\n",
    "            min_time = time\n",
    "    \n",
    "    train_set = []\n",
    "    \n",
    "    for i in range(min_time, max_time + 1):\n",
    "        train_set.append([0] * 5)\n",
    "    \n",
    "    for p in dataset:\n",
    "        index = p[0] - min_time\n",
    "        train_set[index][0] = p[0]\n",
    "        for i in range(1, 5):\n",
    "            train_set[index][i] += p[i]\n",
    "    \n",
    "    result = []\n",
    "    for i in range(0, max_time - min_time):\n",
    "        result.append(train_set[i + 1][4])\n",
    "    \n",
    "    return train_set[:-1], result"
   ]
  },
  {
   "cell_type": "code",
   "execution_count": 6,
   "metadata": {},
   "outputs": [],
   "source": [
    "def get_error(predict, target):\n",
    "    '''\n",
    "        used to get the average error between predict and target\n",
    "    '''\n",
    "    length = len(target)\n",
    "    return sum([abs(predict[i] - target[i]) for i in range(length)]) / float(length)"
   ]
  },
  {
   "cell_type": "code",
   "execution_count": 7,
   "metadata": {},
   "outputs": [],
   "source": [
    "# using k-fold to divide the train and test set \n",
    "from sklearn.model_selection import KFold\n",
    "\n",
    "n_splits = 10\n",
    "kf = KFold(n_splits = n_splits, shuffle = True)\n",
    "\n",
    "def k_fold(X, y, train_model):\n",
    "    '''\n",
    "        use k-fold to split the data and use train_model to train and predict\n",
    "        return the average error of the model\n",
    "    '''\n",
    "    error = 0\n",
    "    for train_index, test_index in kf.split(X):\n",
    "        train_feature = []\n",
    "        test_feature = []\n",
    "        train_result = []\n",
    "        test_result = []\n",
    "        for index in train_index:\n",
    "            train_feature.append(X[index])\n",
    "            train_result.append(y[index])\n",
    "        for index in test_index:\n",
    "            test_feature.append(X[index])\n",
    "            test_result.append(y[index])\n",
    "            \n",
    "        model = train_model.fit(train_feature, train_result)\n",
    "        predict = model.predict(test_feature)\n",
    "        error += get_error(predict, test_result)\n",
    "    return error / n_splits"
   ]
  },
  {
   "cell_type": "code",
   "execution_count": 8,
   "metadata": {},
   "outputs": [],
   "source": [
    "%%capture\n",
    "from sklearn import linear_model\n",
    "from sklearn.neural_network import MLPRegressor\n",
    "from sklearn.svm import LinearSVR\n",
    "\n",
    "lr = linear_model.LinearRegression()\n",
    "clf = MLPRegressor(alpha = 0.001, hidden_layer_sizes = (500,), \\\n",
    "                           activation = 'tanh', verbose = 'True', learning_rate = 'adaptive')\n",
    "svm = LinearSVR(random_state = 0)"
   ]
  },
  {
   "cell_type": "code",
   "execution_count": 9,
   "metadata": {},
   "outputs": [],
   "source": [
    "%%capture\n",
    "time_range = {0: \"Before Feb. 1, 8:00 a.m. \", 1: \"Between Feb. 1, 8:00 a.m. and 8:00 p.m. \", \\\n",
    "              2: \"After Feb. 1, 8:00 p.m.\"}\n",
    "final_result = []\n",
    "for f in files:\n",
    "    file_data = load_file(f)\n",
    "    for i in range(3):\n",
    "        X, y = group_data(file_data[i])\n",
    "        a = \"the file is \" + f + \" , the time range is \" + time_range[i] + \\\n",
    "        \" and the error is \\n\" + str(k_fold(X, y, lr)) + \\\n",
    "        \" and \\n\" + str(k_fold(X, y, clf)) + \\\n",
    "        \" and \\n\" + str(k_fold(X, y, svm))\n",
    "        final_result.append(a)"
   ]
  },
  {
   "cell_type": "code",
   "execution_count": 10,
   "metadata": {},
   "outputs": [
    {
     "name": "stdout",
     "output_type": "stream",
     "text": [
      "the file is tweets_#gohawks.txt , the time range is Before Feb. 1, 8:00 a.m.  and the error is \n",
      "303.639361865003 and \n",
      "227.77633640162193 and \n",
      "197.7600882506802\n",
      "the file is tweets_#gohawks.txt , the time range is Between Feb. 1, 8:00 a.m. and 8:00 p.m.  and the error is \n",
      "7971.9156983906 and \n",
      "5452.357298902855 and \n",
      "4284.136875145707\n",
      "the file is tweets_#gohawks.txt , the time range is After Feb. 1, 8:00 p.m. and the error is \n",
      "35.44609398937148 and \n",
      "37.6777523638481 and \n",
      "113.85460925468765\n",
      "the file is tweets_#gopatriots.txt , the time range is Before Feb. 1, 8:00 a.m.  and the error is \n",
      "15.085538651280505 and \n",
      "13.966260956085554 and \n",
      "45.5720173729588\n",
      "the file is tweets_#gopatriots.txt , the time range is Between Feb. 1, 8:00 a.m. and 8:00 p.m.  and the error is \n",
      "813.886118499752 and \n",
      "1471.8396477097172 and \n",
      "819.538813078666\n",
      "the file is tweets_#gopatriots.txt , the time range is After Feb. 1, 8:00 p.m. and the error is \n",
      "3.8792945798948453 and \n",
      "3.5654366445156596 and \n",
      "5.665022138169254\n",
      "the file is tweets_#nfl.txt , the time range is Before Feb. 1, 8:00 a.m.  and the error is \n",
      "120.03535700771343 and \n",
      "189.97907063412273 and \n",
      "231.58038620615108\n",
      "the file is tweets_#nfl.txt , the time range is Between Feb. 1, 8:00 a.m. and 8:00 p.m.  and the error is \n",
      "2029.7525505344045 and \n",
      "4637.335818730122 and \n",
      "1214.3430598820885\n",
      "the file is tweets_#nfl.txt , the time range is After Feb. 1, 8:00 p.m. and the error is \n",
      "109.2045294918274 and \n",
      "466.04993828990007 and \n",
      "125.82484732219746\n",
      "the file is tweets_#patriots.txt , the time range is Before Feb. 1, 8:00 a.m.  and the error is \n",
      "229.1373590240104 and \n",
      "287.25300672695937 and \n",
      "277.4372869823716\n",
      "the file is tweets_#patriots.txt , the time range is Between Feb. 1, 8:00 a.m. and 8:00 p.m.  and the error is \n",
      "23030.777005559165 and \n",
      "26419.310142181675 and \n",
      "57055.4224383435\n",
      "the file is tweets_#patriots.txt , the time range is After Feb. 1, 8:00 p.m. and the error is \n",
      "88.95527097304975 and \n",
      "146.23515230959416 and \n",
      "278.8770123993985\n",
      "the file is tweets_#sb49.txt , the time range is Before Feb. 1, 8:00 a.m.  and the error is \n",
      "37.15133594108305 and \n",
      "93.91038799046716 and \n",
      "1919.6220041880563\n",
      "the file is tweets_#sb49.txt , the time range is Between Feb. 1, 8:00 a.m. and 8:00 p.m.  and the error is \n",
      "75383.89401105393 and \n",
      "64287.71969188085 and \n",
      "70395.90671241167\n",
      "the file is tweets_#sb49.txt , the time range is After Feb. 1, 8:00 p.m. and the error is \n",
      "172.5635284396913 and \n",
      "360.7774809701103 and \n",
      "285.4898988975866\n",
      "the file is tweets_#superbowl.txt , the time range is Before Feb. 1, 8:00 a.m.  and the error is \n",
      "301.87865058066143 and \n",
      "412.34377862800795 and \n",
      "2459.9066303674067\n",
      "the file is tweets_#superbowl.txt , the time range is Between Feb. 1, 8:00 a.m. and 8:00 p.m.  and the error is \n",
      "148049.23094633725 and \n",
      "94192.73643657775 and \n",
      "81612.61096576444\n",
      "the file is tweets_#superbowl.txt , the time range is After Feb. 1, 8:00 p.m. and the error is \n",
      "183.698372246713 and \n",
      "696.3422847546183 and \n",
      "677.9518398879203\n"
     ]
    }
   ],
   "source": [
    "for x in final_result:\n",
    "    print x"
   ]
  },
  {
   "cell_type": "code",
   "execution_count": 18,
   "metadata": {},
   "outputs": [],
   "source": [
    "%%capture\n",
    "final_result = []\n",
    "\n",
    "# load the file and aggregate all the data\n",
    "aggregate_file = [[], [], []]\n",
    "for f in files:\n",
    "    file_data = load_file(f)\n",
    "    for i in range(len(aggregate_file)):\n",
    "        aggregate_file[i] += file_data[i]\n",
    "\n",
    "for i in range(3):\n",
    "    X, y = group_data(file_data[i])\n",
    "    a = \"the time range is \" + time_range[i] + \\\n",
    "    \" and the error is \\n\" + str(k_fold(X, y, lr)) + \\\n",
    "    \" and \\n\" + str(k_fold(X, y, clf)) + \\\n",
    "    \" and \\n\" + str(k_fold(X, y, svm))\n",
    "    final_result.append(a)"
   ]
  },
  {
   "cell_type": "code",
   "execution_count": 16,
   "metadata": {},
   "outputs": [
    {
     "name": "stdout",
     "output_type": "stream",
     "text": [
      "the time range is Before Feb. 1, 8:00 a.m.  and the error is \n",
      "253.27259234699687 and \n",
      "411.36714482239296 and \n",
      "1080.5463566482615\n",
      "the time range is Between Feb. 1, 8:00 a.m. and 8:00 p.m.  and the error is \n",
      "115980.00756452112 and \n",
      "87689.34303384952 and \n",
      "85851.11489502201\n",
      "the time range is After Feb. 1, 8:00 p.m. and the error is \n",
      "175.92343755502975 and \n",
      "711.7407115256639 and \n",
      "385.96078201990895\n"
     ]
    }
   ],
   "source": [
    "for i in final_result:\n",
    "    print i"
   ]
  },
  {
   "cell_type": "code",
   "execution_count": null,
   "metadata": {},
   "outputs": [],
   "source": []
  }
 ],
 "metadata": {
  "kernelspec": {
   "display_name": "Python 2",
   "language": "python",
   "name": "python2"
  },
  "language_info": {
   "codemirror_mode": {
    "name": "ipython",
    "version": 2
   },
   "file_extension": ".py",
   "mimetype": "text/x-python",
   "name": "python",
   "nbconvert_exporter": "python",
   "pygments_lexer": "ipython2",
   "version": "2.7.10"
  }
 },
 "nbformat": 4,
 "nbformat_minor": 2
}
