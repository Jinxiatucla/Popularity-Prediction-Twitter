{
 "cells": [
  {
   "cell_type": "code",
   "execution_count": 96,
   "metadata": {},
   "outputs": [
    {
     "name": "stdout",
     "output_type": "stream",
     "text": [
      "files[0] => tweets_#gohawks.txt\n",
      "files[1] => tweets_#gopatriots.txt\n",
      "files[2] => tweets_#nfl.txt\n",
      "files[3] => tweets_#patriots.txt\n",
      "files[4] => tweets_#sb49.txt\n",
      "files[5] => tweets_#superbowl.txt\n"
     ]
    }
   ],
   "source": [
    "import json\n",
    "import numpy as np\n",
    "\n",
    "files = [\"tweets_#gohawks.txt\", \"tweets_#gopatriots.txt\", \\\n",
    "        \"tweets_#nfl.txt\", \"tweets_#patriots.txt\", \\\n",
    "        \"tweets_#sb49.txt\", \"tweets_#superbowl.txt\"]\n",
    "\n",
    "test_file = [\"sample1_period1.txt\", \"sample2_period2.txt\",\"sample3_period3.txt\",\"sample4_period1.txt\",\\\n",
    "            \"sample5_period1.txt\",\"sample6_period2.txt\",\"sample7_period3.txt\",\"sample8_period1.txt\", \\\n",
    "            \"sample9_period2.txt\",\"sample10_period3.txt\",]\n",
    "\n",
    "for i, fl in enumerate(files):\n",
    "    print \"files[\" + str(i) + \"] => \" + fl"
   ]
  },
  {
   "cell_type": "code",
   "execution_count": 2,
   "metadata": {},
   "outputs": [],
   "source": [
    "# transform the 2015 Feb. 1, 8:00 am and 8:00 pm into timestamp form\n",
    "import datetime, time\n",
    "import pytz\n",
    "\n",
    "start_time = time.mktime(time.strptime(\"2015-02-01 08:00:00\",'%Y-%m-%d %H:%M:%S'))\n",
    "end_time = time.mktime(time.strptime(\"2015-02-01 20:00:00\",'%Y-%m-%d %H:%M:%S'))\n",
    "# used as the zero point of the time\n",
    "base_time = time.mktime(time.strptime(\"2015-01-01 00:00:00\",'%Y-%m-%d %H:%M:%S'))"
   ]
  },
  {
   "cell_type": "code",
   "execution_count": 3,
   "metadata": {},
   "outputs": [],
   "source": [
    "def floor_date(date):\n",
    "    return date // 3600"
   ]
  },
  {
   "cell_type": "code",
   "execution_count": 30,
   "metadata": {},
   "outputs": [],
   "source": [
    "# the extracted data contains\n",
    "# 0. the citation date 1. the favourite_count 2. the followers number\n",
    "# 3. the length of the title 4. the number of the twitters\n",
    "def load_file(file, path = \"./tweet_data\"):\n",
    "    '''\n",
    "    load the time, follows, and retweets\n",
    "    '''\n",
    "    # 0. before Feb. 1, 8:00 a.m. 1. between 2. after 8:00 p.m.\n",
    "    result = []\n",
    "    for line in open(path + file, 'r') :\n",
    "        tmp = []\n",
    "        a = json.loads(line)\n",
    "        citation_date = a['citation_date']\n",
    "        tmp.append(int((citation_date - base_time) // 3600))\n",
    "        tmp.append(a['author']['followers'])\n",
    "        tmp.append(a['tweet']['user']['favourites_count'])\n",
    "        tmp.append(len(a['title']))\n",
    "        tmp.append(1)\n",
    "        result.append(tmp)\n",
    "    return result"
   ]
  },
  {
   "cell_type": "code",
   "execution_count": 11,
   "metadata": {},
   "outputs": [],
   "source": [
    "def group_data(dataset):\n",
    "    '''\n",
    "    parameter dataset is one of the three time slot defined above, namely, data[0], data[1], data[2]\n",
    "    count all the features in 1-hour slot\n",
    "    \n",
    "    return the train feature (train_set[0:4]) and the result (train_set[5])\n",
    "    '''\n",
    "    # get the maximum and minimum time\n",
    "    max_time = dataset[0][0]\n",
    "    min_time = dataset[0][0]\n",
    "    for p in dataset:\n",
    "        time = p[0]\n",
    "        if max_time < time:\n",
    "            max_time = time\n",
    "        if min_time > time:\n",
    "            min_time = time\n",
    "    \n",
    "    train_set = []\n",
    "    \n",
    "    for i in range(min_time, max_time + 1):\n",
    "        train_set.append([0] * 5)\n",
    "    \n",
    "    for p in dataset:\n",
    "        index = p[0] - min_time\n",
    "        train_set[index][0] = p[0]\n",
    "        for i in range(1, 5):\n",
    "            train_set[index][i] += p[i]\n",
    "    \n",
    "    result = []\n",
    "    for i in range(0, max_time - min_time):\n",
    "        result.append(train_set[i + 1][4])\n",
    "    \n",
    "    return train_set[:-1], result"
   ]
  },
  {
   "cell_type": "code",
   "execution_count": 12,
   "metadata": {},
   "outputs": [],
   "source": [
    "def get_error(predict, target):\n",
    "    '''\n",
    "        used to get the average error between predict and target\n",
    "    '''\n",
    "    length = len(target)\n",
    "    return sum([abs(predict[i] - target[i]) for i in range(length)]) / float(length)"
   ]
  },
  {
   "cell_type": "code",
   "execution_count": 13,
   "metadata": {},
   "outputs": [],
   "source": [
    "total_file = []\n",
    "\n",
    "for ff in files:\n",
    "    total_file.append(load_file(\"tweets_#gopatriots.txt\"))"
   ]
  },
  {
   "cell_type": "code",
   "execution_count": 19,
   "metadata": {},
   "outputs": [],
   "source": [
    "train, result = group_data(total_file)"
   ]
  },
  {
   "cell_type": "code",
   "execution_count": 40,
   "metadata": {},
   "outputs": [],
   "source": [
    "train_tt = []\n",
    "result_tt = []\n",
    "tmp = [0] * 5\n",
    "\n",
    "for i, v in enumerate(train):\n",
    "    if i % 5 == 0 and i < len(train) - 1:\n",
    "        result_tt.append(result[i + 1])\n",
    "        train_tt.append(tmp)\n",
    "        tmp = v\n",
    "    else:\n",
    "        for k in range(5):\n",
    "            tmp[k] += v[k]"
   ]
  },
  {
   "cell_type": "code",
   "execution_count": 61,
   "metadata": {},
   "outputs": [],
   "source": [
    "from sklearn import linear_model\n",
    "\n",
    "lr = linear_model.LinearRegression()\n",
    "model = lr.fit(train, result)"
   ]
  },
  {
   "cell_type": "code",
   "execution_count": 113,
   "metadata": {},
   "outputs": [
    {
     "name": "stdout",
     "output_type": "stream",
     "text": [
      "predict value:954.6026690346104\n",
      "actual value:595\n",
      "\n",
      "predict value:6268.288017288751\n",
      "actual value:204746\n",
      "\n",
      "predict value:2474.261899333979\n",
      "actual value:3188\n",
      "\n",
      "predict value:410.6939920559822\n",
      "actual value:1228\n",
      "\n",
      "predict value:1367.9340393605019\n",
      "actual value:1718\n",
      "\n",
      "predict value:111947.98601000413\n",
      "actual value:204599\n",
      "\n",
      "predict value:65.41886829541272\n",
      "actual value:403\n",
      "\n",
      "predict value:203.0319643273405\n",
      "actual value:180\n",
      "\n",
      "predict value:6626.48115244231\n",
      "actual value:9582\n",
      "\n",
      "predict value:239.79483169725566\n",
      "actual value:303\n",
      "\n"
     ]
    }
   ],
   "source": [
    "import math\n",
    "\n",
    "for t in test_file:\n",
    "    p = load_file(t, \"./test_data/\")\n",
    "    test_tt, result_tt = group_data(p)\n",
    "    \n",
    "    test_feature = [0] * 5\n",
    "    test_result = 0\n",
    "    \n",
    "    # find the largest time\n",
    "    max_time = 0\n",
    "    for p in test_tt:\n",
    "        max_time = max(max_time, p[0])\n",
    "    \n",
    "    for i, p in enumerate(test_tt):\n",
    "        test_result += result_tt[i]\n",
    "        \n",
    "        for k in range(5):\n",
    "            test_feature[k] += p[k]\n",
    "                \n",
    "   #print test_feature\n",
    "    predict = abs(model.predict([test_feature]))\n",
    "    \n",
    "    print('predict value:%s'%predict[0])\n",
    "    print ('actual value:%s'%test_result)\n",
    "    print \"\""
   ]
  },
  {
   "cell_type": "code",
   "execution_count": null,
   "metadata": {},
   "outputs": [],
   "source": []
  }
 ],
 "metadata": {
  "kernelspec": {
   "display_name": "Python 2",
   "language": "python",
   "name": "python2"
  },
  "language_info": {
   "codemirror_mode": {
    "name": "ipython",
    "version": 2
   },
   "file_extension": ".py",
   "mimetype": "text/x-python",
   "name": "python",
   "nbconvert_exporter": "python",
   "pygments_lexer": "ipython2",
   "version": "2.7.14"
  }
 },
 "nbformat": 4,
 "nbformat_minor": 2
}
